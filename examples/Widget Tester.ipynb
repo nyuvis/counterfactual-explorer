{
 "cells": [
  {
   "cell_type": "code",
   "execution_count": 9,
   "metadata": {},
   "outputs": [],
   "source": [
    "import ipywidgets as widgets\n",
    "from IPython.display import display, clear_output\n",
    "from ipywidgets import Checkbox, VBox,HBox,Label, interact,Box, FloatSlider\n",
    "\n"
   ]
  },
  {
   "cell_type": "code",
   "execution_count": 2,
   "metadata": {},
   "outputs": [],
   "source": [
    "# import DiCE\n",
    "import dice_ml\n",
    "from dice_ml.utils import helpers # helper functions\n",
    "\n",
    "# Tensorflow libraries\n",
    "import tensorflow as tf\n",
    "from tensorflow import keras\n",
    "\n",
    "dataset = helpers.load_adult_income_dataset()"
   ]
  },
  {
   "cell_type": "code",
   "execution_count": 3,
   "metadata": {},
   "outputs": [],
   "source": [
    "feature_names=['age', 'workclass', 'education', 'marital_status', 'occupation', 'race', 'gender', 'hours_per_week']\n",
    "cont_feat=['age','hours_per_week']"
   ]
  },
  {
   "cell_type": "code",
   "execution_count": 4,
   "metadata": {},
   "outputs": [
    {
     "name": "stdout",
     "output_type": "stream",
     "text": [
      "1. Select Features to use:                      2. Feature Weights:                    3. Query:\n"
     ]
    },
    {
     "data": {
      "application/vnd.jupyter.widget-view+json": {
       "model_id": "8acd4a8e8b224633a055a1a6304abc11",
       "version_major": 2,
       "version_minor": 0
      },
      "text/plain": [
       "Output()"
      ]
     },
     "metadata": {},
     "output_type": "display_data"
    },
    {
     "data": {
      "application/vnd.jupyter.widget-view+json": {
       "model_id": "390fd9c2ac794fe993665330b9f92e1d",
       "version_major": 2,
       "version_minor": 0
      },
      "text/plain": [
       "HBox(children=(Checkbox(value=False, description='4. Tune proximity/diversity?', indent=False), IntSlider(valu…"
      ]
     },
     "metadata": {},
     "output_type": "display_data"
    }
   ],
   "source": [
    "from ipywidgets import interact_manual\n",
    "from IPython.display import display\n",
    "#from ipywidgets import TwoByTwoLayout\n",
    "from ipywidgets import HBox, Label\n",
    "\n",
    "print('1. Select Features to use:                      2. Feature Weights:                    3. Query:')\n",
    "\n",
    "feature_children=[]\n",
    "for i in feature_names:\n",
    "    new_check1=Checkbox(description=i, value=True)\n",
    "    feature_children.append(new_check1)\n",
    "\n",
    "\n",
    "feature_vb = VBox(children = feature_children)\n",
    "\n",
    "\n",
    "#display(feature_vb)\n",
    "\n",
    "\n",
    "def f(a,b,c,d,e,f,g,h):\n",
    "    use=[a,b,c,d,e,f,g,h]\n",
    "    \n",
    "    using=[]\n",
    "    for i in feature_names:\n",
    "        using.append(i)\n",
    "    #print(use)\n",
    "    for i in range(len(use)):\n",
    "        #print(use[i])\n",
    "        if use[i] is False:\n",
    "            using.remove(feature_names[i])\n",
    "            \n",
    "    #print(using)\n",
    "    \n",
    "    feat_child=[]\n",
    "    for i in using:\n",
    "        new_slider=widgets.FloatSlider(description=i, value=1, min=0.1,max=5)\n",
    "        feat_child.append(new_slider)\n",
    "        \n",
    "    vb = VBox(children = feat_child)\n",
    "    \n",
    "    \n",
    "    \n",
    "    inputq=[]\n",
    "    #print('Input Query:')\n",
    "\n",
    "    index=-1\n",
    "    for i in using:\n",
    "        index+=1\n",
    "        if i in cont_feat:\n",
    "            cont_text=widgets.Text(value='', description=i)\n",
    "            #display(cont_text)\n",
    "            inputq.append(cont_text)\n",
    "        \n",
    "        else:\n",
    "            noncont_dropdown=widgets.Dropdown(description=i,options=dataset[i].unique())\n",
    "            #display(noncont_dropdown)\n",
    "            inputq.append(noncont_dropdown)\n",
    "            \n",
    "    new_children1=[]\n",
    "    for i in inputq:\n",
    "        new_children1.append(i)\n",
    "        \n",
    "    new_children=VBox(children=new_children1)\n",
    "        \n",
    "    display(HBox([feature_vb,vb,new_children]))\n",
    "            \n",
    "\n",
    "out=widgets.interactive_output(f,{'a':feature_children[0],'b':feature_children[1],'c':feature_children[2],'d':feature_children[3],'e':feature_children[4],'f':feature_children[5],'g':feature_children[6],'h':feature_children[7]})\n",
    "display(out)\n",
    "\n",
    "\n",
    "\n",
    "\n",
    "\n",
    "\n",
    "# PROX/DIV WEIGHTS\n",
    "prox = widgets.FloatSlider(description='Proximity Weight', max=10, value=0.5)#default for prox in DiCE is 0.5\n",
    "div = widgets.FloatSlider(description='Diversity Weight', max=10, value=1)#default for div in DiCE is 1\n",
    "\n",
    "vb_proxdiv = VBox(children = [prox, div])\n",
    "tune_proxdiv = Checkbox(description='4. Tune proximity/diversity?', indent=False)\n",
    "\n",
    "def add_2(button):\n",
    "    if button['new']:\n",
    "        vb_proxdiv.children = [prox, div]\n",
    "        display(vb_proxdiv)\n",
    "    else:\n",
    "        vb_proxdiv.children=[]\n",
    "        #TwoByTwoLayout(top_left=tune_proxdiv,\n",
    "         #      top_right=num_exp,\n",
    "          #     bottom_right=highlight_changes)\n",
    "\n",
    "tune_proxdiv.observe(add_2, names='value')\n",
    "\n",
    "#NUMBER OF EXPLANATIONS\n",
    "num_exp = widgets.IntSlider(description='5. Num of Explanations', min=1, max=5,style = {'description_width': 'initial'}, indent=False)\n",
    "  \n",
    "#HIGHLIGHT CHANGEs\n",
    "highlight_changes=widgets.Checkbox(\n",
    "    #value=False,\n",
    "    description='6. Only highlight changes in explanations?',\n",
    "    disabled=False,\n",
    "    indent=False)\n",
    "\n",
    "       \n",
    "#DISPLAYING LAST 3 WIDGETS\n",
    "display(HBox([tune_proxdiv, num_exp, highlight_changes]))\n"
   ]
  },
  {
   "cell_type": "code",
   "execution_count": 34,
   "metadata": {},
   "outputs": [
    {
     "data": {
      "application/vnd.jupyter.widget-view+json": {
       "model_id": "0423acb9548a4c0d980d771bf1890617",
       "version_major": 2,
       "version_minor": 0
      },
      "text/plain": [
       "HBox(children=(VBox(children=(Label(value='1. Feauture Weights:'), HBox(children=(VBox(children=(Label(value='…"
      ]
     },
     "metadata": {},
     "output_type": "display_data"
    },
    {
     "data": {
      "application/vnd.jupyter.widget-view+json": {
       "model_id": "b053d3022a204db49b9df5882b42b2ad",
       "version_major": 2,
       "version_minor": 0
      },
      "text/plain": [
       "HBox(children=(Checkbox(value=False, description='3. Tune proximity/diversity?', indent=False), IntSlider(valu…"
      ]
     },
     "metadata": {},
     "output_type": "display_data"
    }
   ],
   "source": [
    "#FEATURE WEIGHTS\n",
    "feat_child=[Label('1. Feauture Weights:')]\n",
    "\n",
    "sliders=[]\n",
    "sliderlabels=[]\n",
    "for i in feature_names:\n",
    "    new_slider=widgets.FloatSlider( value=1, max=5)#description=i,\n",
    "    sliders.append(new_slider)\n",
    "    sliderlabels.append(Label(i))\n",
    "\n",
    "justslider=VBox(children=sliders)\n",
    "justlabels=VBox(children=sliderlabels)\n",
    "slidersandlabels=HBox(children=[justlabels,justslider])\n",
    "feat_child.append(slidersandlabels)\n",
    "        \n",
    "weights=VBox(children=feat_child)\n",
    "\n",
    "        \n",
    "        \n",
    "#INPUT QUERY        \n",
    "inputq=[Label('2. Input Query:')]\n",
    "\n",
    "inputs=[]\n",
    "index=-1\n",
    "for i in feature_names:\n",
    "    index+=1\n",
    "    if i in cont_feat:\n",
    "        cont_text=widgets.Text(value='')#, description=i)\n",
    "        inputs.append(cont_text)\n",
    "\n",
    "    else:\n",
    "        noncont_dropdown=widgets.Dropdown(options=dataset[i].unique())#description=i,\n",
    "        inputs.append(noncont_dropdown)\n",
    "\n",
    "justinputs=VBox(children=inputs)\n",
    "inputsandlabels=HBox(children=[justlabels,justinputs])\n",
    "\n",
    "inputq.append(inputsandlabels)\n",
    "query=VBox(children=inputq)\n",
    "\n",
    "\n",
    "\n",
    "\n",
    "#DISPLAY FIRST 2 WIDGETS\n",
    "display(HBox(children=[weights,query]))\n",
    "\n",
    "\n",
    "\n",
    "\n",
    "\n",
    "# PROX/DIV WEIGHTS\n",
    "prox = widgets.FloatSlider(description='Proximity Weight', max=10, value=0.5)#default for prox in DiCE is 0.5\n",
    "div = widgets.FloatSlider(description='Diversity Weight', max=10, value=1)#default for div in DiCE is 1\n",
    "\n",
    "vb_proxdiv = VBox(children = [prox, div])\n",
    "tune_proxdiv = Checkbox(description='3. Tune proximity/diversity?', indent=False)\n",
    "\n",
    "def add_2(button):\n",
    "    if button['new']:\n",
    "        vb_proxdiv.children = [prox, div]\n",
    "        display(vb_proxdiv)\n",
    "    else:\n",
    "        vb_proxdiv.children=[]\n",
    "\n",
    "tune_proxdiv.observe(add_2, names='value')\n",
    "\n",
    "#NUMBER OF EXPLANATIONS\n",
    "num_exp = widgets.IntSlider(description='4. Num of Explanations', min=1, max=5,style = {'description_width': 'initial'}, indent=False)\n",
    "  \n",
    "#HIGHLIGHT CHANGEs\n",
    "highlight_changes=widgets.Checkbox(\n",
    "    description='5. Only highlight changes in explanations?',\n",
    "    disabled=False,\n",
    "    indent=False)\n",
    "\n",
    "       \n",
    "#DISPLAYING LAST 3 WIDGETS\n",
    "display(HBox([tune_proxdiv, num_exp, highlight_changes]))\n"
   ]
  },
  {
   "cell_type": "code",
   "execution_count": 67,
   "metadata": {},
   "outputs": [
    {
     "data": {
      "application/vnd.jupyter.widget-view+json": {
       "model_id": "bdd68e0a42ce406fa25d05b1754ffcf3",
       "version_major": 2,
       "version_minor": 0
      },
      "text/plain": [
       "Dropdown(description='2. Query Input:', options=('', 'From Dataset', 'Manually Enter'), style=DescriptionStyle…"
      ]
     },
     "metadata": {},
     "output_type": "display_data"
    },
    {
     "data": {
      "application/vnd.jupyter.widget-view+json": {
       "model_id": "8480cb5aeb78454c91062f537334ac44",
       "version_major": 2,
       "version_minor": 0
      },
      "text/plain": [
       "Output()"
      ]
     },
     "metadata": {},
     "output_type": "display_data"
    }
   ],
   "source": [
    "a=widgets.Dropdown(\n",
    "    options=['', 'From Dataset', 'Manually Enter'],\n",
    "    value='',\n",
    "    description='2. Query Input:',style = {'description_width': 'initial'})\n",
    "\n",
    "def f(b):\n",
    "    if b=='From Dataset':\n",
    "        automatic_entry=widgets.Text(value='', description='Enter row number of query:',style = {'description_width': 'initial'})\n",
    "        display(automatic_entry)\n",
    "\n",
    "    elif b=='Manually Enter':\n",
    "        inputq=[Label('Input Query:')]\n",
    "\n",
    "        inputs=[]\n",
    "        index=-1\n",
    "        for i in feature_names:\n",
    "            index+=1\n",
    "            if i in cont_feat:\n",
    "                cont_text=widgets.Text(value='')#, description=i)\n",
    "                inputs.append(cont_text)\n",
    "\n",
    "            else:\n",
    "                noncont_dropdown=widgets.Dropdown(options=dataset[i].unique())#description=i,\n",
    "                inputs.append(noncont_dropdown)\n",
    "\n",
    "        justinputs=VBox(children=inputs)\n",
    "        inputsandlabels=HBox(children=[justlabels,justinputs])\n",
    "\n",
    "        inputq.append(inputsandlabels)\n",
    "        query=VBox(children=inputq)\n",
    "        display(query)\n",
    "        \n",
    "    elif b=='':\n",
    "        print('')\n",
    "\n",
    "out = widgets.interactive_output(f, {'b': a})\n",
    "\n",
    "display(a, out)"
   ]
  },
  {
   "cell_type": "code",
   "execution_count": 82,
   "metadata": {},
   "outputs": [
    {
     "data": {
      "application/vnd.jupyter.widget-view+json": {
       "model_id": "3ce127bd95f942759382ff19b691098d",
       "version_major": 2,
       "version_minor": 0
      },
      "text/plain": [
       "HBox(children=(VBox(children=(Label(value='1. Feauture Weights:'), HBox(children=(VBox(children=(Label(value='…"
      ]
     },
     "metadata": {},
     "output_type": "display_data"
    },
    {
     "data": {
      "application/vnd.jupyter.widget-view+json": {
       "model_id": "649171b601ce4465b8eb202ff81915f4",
       "version_major": 2,
       "version_minor": 0
      },
      "text/plain": [
       "HBox(children=(Checkbox(value=False, description='3. Tune proximity/diversity?', indent=False), IntSlider(valu…"
      ]
     },
     "metadata": {},
     "output_type": "display_data"
    }
   ],
   "source": [
    "#FEATURE WEIGHTS\n",
    "feat_child=[Label('1. Feauture Weights:')]\n",
    "\n",
    "sliders=[]\n",
    "sliderlabels=[]\n",
    "for i in feature_names:\n",
    "    new_slider=widgets.FloatSlider( value=1, max=5)#description=i,\n",
    "    sliders.append(new_slider)\n",
    "    sliderlabels.append(Label(i))\n",
    "\n",
    "justslider=VBox(children=sliders)\n",
    "justlabels=VBox(children=sliderlabels)\n",
    "slidersandlabels=HBox(children=[justlabels,justslider])\n",
    "feat_child.append(slidersandlabels)\n",
    "        \n",
    "weights=VBox(children=feat_child)\n",
    "\n",
    "        \n",
    "        \n",
    "#INPUT QUERY        \n",
    "a=widgets.Dropdown(\n",
    "    options=['', 'From Dataset', 'Manually Enter'],\n",
    "    value='',\n",
    "    description='2. Query Input:',style = {'description_width': 'initial'})\n",
    "\n",
    "def f(b):\n",
    "    if b=='From Dataset':\n",
    "        automatic_entry=widgets.Text(value='', description='Enter row number of query:',style = {'description_width': 'initial'})\n",
    "        display(automatic_entry)\n",
    "\n",
    "    elif b=='Manually Enter':\n",
    "        inputq=[]\n",
    "\n",
    "        inputs=[]\n",
    "        index=-1\n",
    "        for i in feature_names:\n",
    "            index+=1\n",
    "            if i in cont_feat:\n",
    "                cont_text=widgets.Text(value='')#, description=i)\n",
    "                inputs.append(cont_text)\n",
    "\n",
    "            else:\n",
    "                noncont_dropdown=widgets.Dropdown(options=dataset[i].unique())#description=i,\n",
    "                inputs.append(noncont_dropdown)\n",
    "\n",
    "        justinputs=VBox(children=inputs)\n",
    "        inputsandlabels=HBox(children=[justlabels,justinputs])\n",
    "\n",
    "        inputq.append(inputsandlabels)\n",
    "        query=VBox(children=inputq)\n",
    "        display(query)\n",
    "        \n",
    "    elif b=='':\n",
    "        print('')\n",
    "\n",
    "out = widgets.interactive_output(f, {'b': a})\n",
    "\n",
    "#x=display(a, out)\n",
    "query1=VBox(children=[a,out])\n",
    "\n",
    "\n",
    "#DISPLAY FIRST 2 WIDGETS\n",
    "display(HBox(children=[weights,query1]))\n",
    "\n",
    "\n",
    "\n",
    "# PROX/DIV WEIGHTS\n",
    "prox = widgets.FloatSlider(description='Proximity Weight', max=10, value=0.5)#default for prox in DiCE is 0.5\n",
    "div = widgets.FloatSlider(description='Diversity Weight', max=10, value=1)#default for div in DiCE is 1\n",
    "\n",
    "vb_proxdiv = VBox(children = [prox, div])\n",
    "tune_proxdiv = Checkbox(description='3. Tune proximity/diversity?', indent=False)\n",
    "\n",
    "def add_2(button):\n",
    "    if button['new']:\n",
    "        vb_proxdiv.children = [prox, div]\n",
    "        display(vb_proxdiv)\n",
    "    else:\n",
    "        vb_proxdiv.children=[]\n",
    "\n",
    "tune_proxdiv.observe(add_2, names='value')\n",
    "\n",
    "#NUMBER OF EXPLANATIONS\n",
    "num_exp = widgets.IntSlider(description='4. Num of Explanations', min=1, max=5,style = {'description_width': 'initial'}, indent=False)\n",
    "  \n",
    "#HIGHLIGHT CHANGEs\n",
    "highlight_changes=widgets.Checkbox(\n",
    "    description='5. Only highlight changes in explanations?',\n",
    "    disabled=False,\n",
    "    indent=False)\n",
    "\n",
    "       \n",
    "#DISPLAYING LAST 3 WIDGETS\n",
    "display(HBox([tune_proxdiv, num_exp, highlight_changes]))\n"
   ]
  },
  {
   "cell_type": "code",
   "execution_count": null,
   "metadata": {},
   "outputs": [],
   "source": []
  }
 ],
 "metadata": {
  "kernelspec": {
   "display_name": "Python 3",
   "language": "python",
   "name": "python3"
  },
  "language_info": {
   "codemirror_mode": {
    "name": "ipython",
    "version": 3
   },
   "file_extension": ".py",
   "mimetype": "text/x-python",
   "name": "python",
   "nbconvert_exporter": "python",
   "pygments_lexer": "ipython3",
   "version": "3.7.0"
  }
 },
 "nbformat": 4,
 "nbformat_minor": 4
}
