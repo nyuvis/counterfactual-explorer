{
 "cells": [
  {
   "cell_type": "code",
   "execution_count": 1,
   "metadata": {},
   "outputs": [],
   "source": [
    "import ipywidgets as widgets\n",
    "from ipywidgets import interact\n",
    "from IPython.display import display, clear_output\n",
    "from ipywidgets import Checkbox, VBox,HBox"
   ]
  },
  {
   "cell_type": "code",
   "execution_count": 2,
   "metadata": {},
   "outputs": [],
   "source": [
    "feature_names=['age', 'workclass', 'education', 'marital_status', 'occupation', 'race', 'gender', 'hours_per_week']\n"
   ]
  },
  {
   "cell_type": "code",
   "execution_count": 66,
   "metadata": {},
   "outputs": [
    {
     "data": {
      "application/vnd.jupyter.widget-view+json": {
       "model_id": "1e10bc0b755f46f59e72b1ed0d25f886",
       "version_major": 2,
       "version_minor": 0
      },
      "text/plain": [
       "Checkbox(value=True, description='1. Use all features? ')"
      ]
     },
     "metadata": {},
     "output_type": "display_data"
    },
    {
     "data": {
      "application/vnd.jupyter.widget-view+json": {
       "model_id": "4cc87a6067994f3a8ec274329ab0f659",
       "version_major": 2,
       "version_minor": 0
      },
      "text/plain": [
       "Output()"
      ]
     },
     "metadata": {},
     "output_type": "display_data"
    },
    {
     "data": {
      "application/vnd.jupyter.widget-view+json": {
       "model_id": "888b71d3a4684d53809edb19782c7270",
       "version_major": 2,
       "version_minor": 0
      },
      "text/plain": [
       "TwoByTwoLayout(children=(Checkbox(value=False, description='3. Tune proximity/diversity?', indent=False, layou…"
      ]
     },
     "metadata": {},
     "output_type": "display_data"
    }
   ],
   "source": [
    "from ipywidgets import interact_manual\n",
    "from IPython.display import display\n",
    "from ipywidgets import TwoByTwoLayout\n",
    "from ipywidgets import HBox, Label\n",
    "\n",
    "feature_children=[]\n",
    "for i in feature_names:\n",
    "    new_check1=Checkbox(description=i, value=True)\n",
    "    feature_children.append(new_check1)\n",
    "\n",
    "\n",
    "feature_vb = VBox(children = feature_children)\n",
    "use_all_feat = Checkbox(description='1. Use all features? ',value=True)\n",
    "\n",
    "def add_checks(button1):\n",
    "    if button1['old']:\n",
    "        feature_vb.children = feature_children\n",
    "        print('Deselect features you do not want to vary')\n",
    "        display(feature_vb)\n",
    "    else:\n",
    "        feature_vb.children=[]\n",
    "\n",
    "\n",
    "use_all_feat.observe(add_checks, names='value')\n",
    "display(use_all_feat)\n",
    "\n",
    "\n",
    "def f(a,b,c,d,e,f,g,h):\n",
    "    use=[a,b,c,d,e,f,g,h]\n",
    "    using=['age','workclass','education','marital_status','occupation','race','gender','hours_per_week']\n",
    "    #print(use)\n",
    "    for i in range(len(use)):\n",
    "        #print(use[i])\n",
    "        if use[i] is False:\n",
    "            using.remove(feature_names[i])\n",
    "            \n",
    "    #print(using)\n",
    "    \n",
    "    feat_child=[]\n",
    "    for i in using:\n",
    "        new_slider=widgets.FloatSlider(description=i, value=1, max=5)\n",
    "        feat_child.append(new_slider)\n",
    "        \n",
    "    vb = VBox(children = feat_child)\n",
    "    top_toggle1 = Checkbox(description='2. Assign Feature Weights?')\n",
    "\n",
    "    def add_sliders(button):\n",
    "        if button['new']:\n",
    "            vb.children = feat_child\n",
    "            display(vb)\n",
    "        else:\n",
    "            vb.children=[]\n",
    "    \n",
    "    top_toggle1.observe(add_sliders, names='value')\n",
    "    display(top_toggle1)\n",
    "    \n",
    "\n",
    "    #display(TwoByTwoLayout(top_left=use_all_feat,top_right=top_toggle1))\n",
    "    #display(HBox([use_all_feat,top_toggle1]))\n",
    "\n",
    "\n",
    "out=widgets.interactive_output(f,{'a':feature_children[0],'b':feature_children[1],'c':feature_children[2],'d':feature_children[3],'e':feature_children[4],'f':feature_children[5],'g':feature_children[6],'h':feature_children[7]})\n",
    "display(out)\n",
    "\n",
    "\n",
    "\n",
    "\n",
    "\n",
    "\n",
    "\n",
    "\n",
    "\n",
    "\n",
    "\n",
    "\n",
    "\n",
    "\n",
    "\n",
    "\n",
    "#HIGHLIGHT CHANGEs\n",
    "highlight_changes=widgets.Checkbox(\n",
    "    #value=False,\n",
    "    description='5. Only highlight changes in explanations',\n",
    "    disabled=False,\n",
    "    indent=False)\n",
    "\n",
    "#NUMBER OF EXPLANATIONS\n",
    "#num_exp=HBox([Label('4. Number of Explanations'), widgets.IntSlider(min=1, max=5)])\n",
    "num_exp = widgets.IntSlider(description='4. # of Explanations', min=1, max=5,style = {'description_width': 'initial'}, indent=False)\n",
    "         \n",
    "# PROX/DIV WEIGHTS\n",
    "prox = widgets.FloatSlider(description='Proximity Weight', max=10, value=0.5)#default for Dice prox is 0.5\n",
    "div = widgets.FloatSlider(description='Diversity Weight', max=10, value=1)#default for Dice div is 1\n",
    "\n",
    "\n",
    "vb_proxdiv = VBox(children = [prox, div])\n",
    "tune_proxdiv = Checkbox(description='3. Tune proximity/diversity?', indent=False)\n",
    "\n",
    "def add_2(button):\n",
    "    if button['new']:\n",
    "        vb_proxdiv.children = [prox, div]\n",
    "        display(vb_proxdiv)\n",
    "    else:\n",
    "        vb_proxdiv.children=[]\n",
    "        TwoByTwoLayout(top_left=tune_proxdiv,\n",
    "               top_right=num_exp,\n",
    "               bottom_right=highlight_changes)\n",
    "\n",
    "tune_proxdiv.observe(add_2, names='value')\n",
    "\n",
    "\n",
    "\n",
    "\n",
    "#displaying them\n",
    "from ipywidgets import TwoByTwoLayout\n",
    "\n",
    "TwoByTwoLayout(top_left=tune_proxdiv,\n",
    "                top_right=num_exp,\n",
    "               bottom_right=highlight_changes)\n"
   ]
  },
  {
   "cell_type": "code",
   "execution_count": null,
   "metadata": {},
   "outputs": [],
   "source": []
  }
 ],
 "metadata": {
  "kernelspec": {
   "display_name": "Python 3",
   "language": "python",
   "name": "python3"
  },
  "language_info": {
   "codemirror_mode": {
    "name": "ipython",
    "version": 3
   },
   "file_extension": ".py",
   "mimetype": "text/x-python",
   "name": "python",
   "nbconvert_exporter": "python",
   "pygments_lexer": "ipython3",
   "version": "3.7.0"
  }
 },
 "nbformat": 4,
 "nbformat_minor": 4
}
