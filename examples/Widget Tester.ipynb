{
 "cells": [
  {
   "cell_type": "code",
   "execution_count": 46,
   "metadata": {},
   "outputs": [],
   "source": [
    "import ipywidgets as widgets\n",
    "from IPython.display import display, clear_output\n",
    "from ipywidgets import Checkbox, VBox,HBox,Label, interact,Box\n",
    "\n"
   ]
  },
  {
   "cell_type": "code",
   "execution_count": 19,
   "metadata": {},
   "outputs": [],
   "source": [
    "# import DiCE\n",
    "import dice_ml\n",
    "from dice_ml.utils import helpers # helper functions\n",
    "\n",
    "# Tensorflow libraries\n",
    "import tensorflow as tf\n",
    "from tensorflow import keras\n",
    "\n",
    "dataset = helpers.load_adult_income_dataset()"
   ]
  },
  {
   "cell_type": "code",
   "execution_count": 2,
   "metadata": {},
   "outputs": [],
   "source": [
    "feature_names=['age', 'workclass', 'education', 'marital_status', 'occupation', 'race', 'gender', 'hours_per_week']\n"
   ]
  },
  {
   "cell_type": "code",
   "execution_count": 7,
   "metadata": {},
   "outputs": [
    {
     "data": {
      "application/vnd.jupyter.widget-view+json": {
       "model_id": "8351d398e056476ba5ec3e1ec8355bdf",
       "version_major": 2,
       "version_minor": 0
      },
      "text/plain": [
       "Checkbox(value=True, description='1. Use all features? ')"
      ]
     },
     "metadata": {},
     "output_type": "display_data"
    },
    {
     "data": {
      "application/vnd.jupyter.widget-view+json": {
       "model_id": "44763c2dacac470a9ee6a4e451bcd709",
       "version_major": 2,
       "version_minor": 0
      },
      "text/plain": [
       "Output()"
      ]
     },
     "metadata": {},
     "output_type": "display_data"
    },
    {
     "data": {
      "application/vnd.jupyter.widget-view+json": {
       "model_id": "ddaa960e9da044beb62368f9e8226a1d",
       "version_major": 2,
       "version_minor": 0
      },
      "text/plain": [
       "Checkbox(value=False, description='3. Tune proximity/diversity?', indent=False)"
      ]
     },
     "metadata": {},
     "output_type": "display_data"
    },
    {
     "data": {
      "application/vnd.jupyter.widget-view+json": {
       "model_id": "f3837573c9c44b5aaa6ab340d993cb6e",
       "version_major": 2,
       "version_minor": 0
      },
      "text/plain": [
       "IntSlider(value=1, description='4. # of Explanations', max=5, min=1, style=SliderStyle(description_width='init…"
      ]
     },
     "metadata": {},
     "output_type": "display_data"
    },
    {
     "data": {
      "application/vnd.jupyter.widget-view+json": {
       "model_id": "eae4a064731546e7be37ccb5ee8a842e",
       "version_major": 2,
       "version_minor": 0
      },
      "text/plain": [
       "Checkbox(value=False, description='5. Only highlight changes in explanations', indent=False)"
      ]
     },
     "metadata": {},
     "output_type": "display_data"
    },
    {
     "data": {
      "application/vnd.jupyter.widget-view+json": {
       "model_id": "cbd4e643d5834b32af855c99704a698c",
       "version_major": 2,
       "version_minor": 0
      },
      "text/plain": [
       "VBox(children=(FloatSlider(value=0.5, description='Proximity Weight', max=10.0), FloatSlider(value=1.0, descri…"
      ]
     },
     "metadata": {},
     "output_type": "display_data"
    },
    {
     "name": "stdout",
     "output_type": "stream",
     "text": [
      "Deselect features you do not want to vary\n"
     ]
    },
    {
     "data": {
      "application/vnd.jupyter.widget-view+json": {
       "model_id": "8b5b191222394b1c9a43d266eb5a6621",
       "version_major": 2,
       "version_minor": 0
      },
      "text/plain": [
       "VBox(children=(Checkbox(value=True, description='age'), Checkbox(value=True, description='workclass'), Checkbo…"
      ]
     },
     "metadata": {},
     "output_type": "display_data"
    }
   ],
   "source": [
    "from ipywidgets import interact_manual\n",
    "from IPython.display import display\n",
    "#from ipywidgets import TwoByTwoLayout\n",
    "from ipywidgets import HBox, Label\n",
    "\n",
    "feature_children=[]\n",
    "for i in feature_names:\n",
    "    new_check1=Checkbox(description=i, value=True)\n",
    "    feature_children.append(new_check1)\n",
    "\n",
    "\n",
    "feature_vb = VBox(children = feature_children)\n",
    "use_all_feat = Checkbox(description='1. Use all features? ',value=True)\n",
    "\n",
    "def add_checks(button1):\n",
    "    if button1['old']:\n",
    "        feature_vb.children = feature_children\n",
    "        print('Deselect features you do not want to vary')\n",
    "        display(feature_vb)\n",
    "    else:\n",
    "        feature_vb.children=[]\n",
    "\n",
    "\n",
    "use_all_feat.observe(add_checks, names='value')\n",
    "display(use_all_feat)\n",
    "\n",
    "\n",
    "def f(a,b,c,d,e,f,g,h):\n",
    "    use=[a,b,c,d,e,f,g,h]\n",
    "    using=['age','workclass','education','marital_status','occupation','race','gender','hours_per_week']\n",
    "    #print(use)\n",
    "    for i in range(len(use)):\n",
    "        #print(use[i])\n",
    "        if use[i] is False:\n",
    "            using.remove(feature_names[i])\n",
    "            \n",
    "    #print(using)\n",
    "    \n",
    "    feat_child=[]\n",
    "    for i in using:\n",
    "        new_slider=widgets.FloatSlider(description=i, value=1, max=5)\n",
    "        feat_child.append(new_slider)\n",
    "        \n",
    "    vb = VBox(children = feat_child)\n",
    "    top_toggle1 = Checkbox(description='2. Assign Feature Weights?')\n",
    "\n",
    "    def add_sliders(button):\n",
    "        if button['new']:\n",
    "            vb.children = feat_child\n",
    "            display(vb)\n",
    "        else:\n",
    "            vb.children=[]\n",
    "    \n",
    "    top_toggle1.observe(add_sliders, names='value')\n",
    "    display(top_toggle1)\n",
    "    \n",
    "\n",
    "    #display(TwoByTwoLayout(top_left=use_all_feat,top_right=top_toggle1))\n",
    "    #display(HBox([use_all_feat,top_toggle1]))\n",
    "\n",
    "\n",
    "out=widgets.interactive_output(f,{'a':feature_children[0],'b':feature_children[1],'c':feature_children[2],'d':feature_children[3],'e':feature_children[4],'f':feature_children[5],'g':feature_children[6],'h':feature_children[7]})\n",
    "display(out)\n",
    "\n",
    "\n",
    "\n",
    "\n",
    "\n",
    "\n",
    "\n",
    "\n",
    "\n",
    "\n",
    "\n",
    "\n",
    "\n",
    "\n",
    "\n",
    "\n",
    "#HIGHLIGHT CHANGEs\n",
    "highlight_changes=widgets.Checkbox(\n",
    "    #value=False,\n",
    "    description='5. Only highlight changes in explanations',\n",
    "    disabled=False,\n",
    "    indent=False)\n",
    "\n",
    "#NUMBER OF EXPLANATIONS\n",
    "#num_exp=HBox([Label('4. Number of Explanations'), widgets.IntSlider(min=1, max=5)])\n",
    "num_exp = widgets.IntSlider(description='4. # of Explanations', min=1, max=5,style = {'description_width': 'initial'}, indent=False)\n",
    "         \n",
    "# PROX/DIV WEIGHTS\n",
    "prox = widgets.FloatSlider(description='Proximity Weight', max=10, value=0.5)#default for Dice prox is 0.5\n",
    "div = widgets.FloatSlider(description='Diversity Weight', max=10, value=1)#default for Dice div is 1\n",
    "\n",
    "\n",
    "vb_proxdiv = VBox(children = [prox, div])\n",
    "tune_proxdiv = Checkbox(description='3. Tune proximity/diversity?', indent=False)\n",
    "\n",
    "def add_2(button):\n",
    "    if button['new']:\n",
    "        vb_proxdiv.children = [prox, div]\n",
    "        display(vb_proxdiv)\n",
    "    else:\n",
    "        vb_proxdiv.children=[]\n",
    "        #TwoByTwoLayout(top_left=tune_proxdiv,\n",
    "         #      top_right=num_exp,\n",
    "          #     bottom_right=highlight_changes)\n",
    "\n",
    "tune_proxdiv.observe(add_2, names='value')\n",
    "\n",
    "\n",
    "\n",
    "\n",
    "#displaying them\n",
    "#from ipywidgets import TwoByTwoLayout\n",
    "#TwoByTwoLayout(top_left=tune_proxdiv,\n",
    " #              top_right=num_exp,\n",
    "  #             bottom_right=highlight_changes)\n",
    "display(tune_proxdiv, num_exp, highlight_changes)\n"
   ]
  },
  {
   "cell_type": "code",
   "execution_count": 17,
   "metadata": {},
   "outputs": [],
   "source": [
    "cont_feat=['age','hours_per_week']"
   ]
  },
  {
   "cell_type": "code",
   "execution_count": 53,
   "metadata": {},
   "outputs": [
    {
     "name": "stdout",
     "output_type": "stream",
     "text": [
      "1. Select Features to use                      2. Feature Weights                    3. Query\n"
     ]
    },
    {
     "data": {
      "application/vnd.jupyter.widget-view+json": {
       "model_id": "5c48a126d73043309812c4877a298474",
       "version_major": 2,
       "version_minor": 0
      },
      "text/plain": [
       "Output()"
      ]
     },
     "metadata": {},
     "output_type": "display_data"
    },
    {
     "data": {
      "application/vnd.jupyter.widget-view+json": {
       "model_id": "952dda91fa014e6b8a12ee3b1f93cb0f",
       "version_major": 2,
       "version_minor": 0
      },
      "text/plain": [
       "HBox(children=(Checkbox(value=False, description='4. Tune proximity/diversity?', indent=False), IntSlider(valu…"
      ]
     },
     "metadata": {},
     "output_type": "display_data"
    }
   ],
   "source": [
    "from ipywidgets import interact_manual\n",
    "from IPython.display import display\n",
    "#from ipywidgets import TwoByTwoLayout\n",
    "from ipywidgets import HBox, Label\n",
    "\n",
    "print('1. Select Features to use                      2. Feature Weights                    3. Query')\n",
    "\n",
    "feature_children=[]\n",
    "for i in feature_names:\n",
    "    new_check1=Checkbox(description=i, value=True)\n",
    "    feature_children.append(new_check1)\n",
    "\n",
    "\n",
    "feature_vb = VBox(children = feature_children)\n",
    "\n",
    "\n",
    "#display(feature_vb)\n",
    "\n",
    "\n",
    "def f(a,b,c,d,e,f,g,h):\n",
    "    use=[a,b,c,d,e,f,g,h]\n",
    "    using=['age','workclass','education','marital_status','occupation','race','gender','hours_per_week']\n",
    "    #print(use)\n",
    "    for i in range(len(use)):\n",
    "        #print(use[i])\n",
    "        if use[i] is False:\n",
    "            using.remove(feature_names[i])\n",
    "            \n",
    "    #print(using)\n",
    "    \n",
    "    feat_child=[]\n",
    "    for i in using:\n",
    "        new_slider=widgets.FloatSlider(description=i, value=1, max=5)\n",
    "        feat_child.append(new_slider)\n",
    "        \n",
    "    vb = VBox(children = feat_child)\n",
    "    #display(vb)\n",
    "    #display(HBox([feature_vb,vb]))#,inputq[0]\n",
    "    \n",
    "\n",
    "    #display(TwoByTwoLayout(top_left=use_all_feat,top_right=top_toggle1))\n",
    "    #display(HBox([use_all_feat,top_toggle1]))\n",
    "    \n",
    "    \n",
    "    \n",
    "    inputq=[]\n",
    "    #print('Input Query:')\n",
    "\n",
    "    index=-1\n",
    "    for i in using:\n",
    "        index+=1\n",
    "        if i in cont_feat:\n",
    "            cont_text=widgets.Text(value='', description=i)\n",
    "            #display(cont_text)\n",
    "            inputq.append(cont_text)\n",
    "        \n",
    "        else:\n",
    "            noncont_dropdown=widgets.Dropdown(description=i,options=dataset[i].unique())\n",
    "            #display(noncont_dropdown)\n",
    "            inputq.append(noncont_dropdown)\n",
    "            \n",
    "    new_children1=[]\n",
    "    for i in inputq:\n",
    "        new_children1.append(i)\n",
    "        \n",
    "    new_children=VBox(children=new_children1)\n",
    "        \n",
    "    display(HBox([feature_vb,vb,new_children]))\n",
    "    #,inputq[0]\n",
    "            \n",
    "            \n",
    "    \n",
    "\n",
    "\n",
    "out=widgets.interactive_output(f,{'a':feature_children[0],'b':feature_children[1],'c':feature_children[2],'d':feature_children[3],'e':feature_children[4],'f':feature_children[5],'g':feature_children[6],'h':feature_children[7]})\n",
    "display(out)\n",
    "\n",
    "\n",
    "\n",
    "\n",
    "\n",
    "\n",
    "\n",
    "\n",
    "\n",
    "\n",
    "\n",
    "\n",
    "\n",
    "\n",
    "\n",
    "\n",
    "#HIGHLIGHT CHANGEs\n",
    "highlight_changes=widgets.Checkbox(\n",
    "    #value=False,\n",
    "    description='6. Only highlight changes in explanations',\n",
    "    disabled=False,\n",
    "    indent=False)\n",
    "\n",
    "#NUMBER OF EXPLANATIONS\n",
    "#num_exp=HBox([Label('4. Number of Explanations'), widgets.IntSlider(min=1, max=5)])\n",
    "num_exp = widgets.IntSlider(description='5. # of Explanations', min=1, max=5,style = {'description_width': 'initial'}, indent=False)\n",
    "         \n",
    "# PROX/DIV WEIGHTS\n",
    "prox = widgets.FloatSlider(description='Proximity Weight', max=10, value=0.5)#default for Dice prox is 0.5\n",
    "div = widgets.FloatSlider(description='Diversity Weight', max=10, value=1)#default for Dice div is 1\n",
    "\n",
    "\n",
    "vb_proxdiv = VBox(children = [prox, div])\n",
    "tune_proxdiv = Checkbox(description='4. Tune proximity/diversity?', indent=False)\n",
    "\n",
    "def add_2(button):\n",
    "    if button['new']:\n",
    "        vb_proxdiv.children = [prox, div]\n",
    "        display(vb_proxdiv)\n",
    "    else:\n",
    "        vb_proxdiv.children=[]\n",
    "        #TwoByTwoLayout(top_left=tune_proxdiv,\n",
    "         #      top_right=num_exp,\n",
    "          #     bottom_right=highlight_changes)\n",
    "\n",
    "tune_proxdiv.observe(add_2, names='value')\n",
    "\n",
    "display(HBox([tune_proxdiv, num_exp, highlight_changes]))\n",
    "\n"
   ]
  },
  {
   "cell_type": "code",
   "execution_count": null,
   "metadata": {},
   "outputs": [],
   "source": []
  }
 ],
 "metadata": {
  "kernelspec": {
   "display_name": "Python 3",
   "language": "python",
   "name": "python3"
  },
  "language_info": {
   "codemirror_mode": {
    "name": "ipython",
    "version": 3
   },
   "file_extension": ".py",
   "mimetype": "text/x-python",
   "name": "python",
   "nbconvert_exporter": "python",
   "pygments_lexer": "ipython3",
   "version": "3.7.0"
  }
 },
 "nbformat": 4,
 "nbformat_minor": 4
}
